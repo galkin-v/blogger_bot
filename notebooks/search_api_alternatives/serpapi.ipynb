{
 "cells": [
  {
   "cell_type": "code",
   "execution_count": 5,
   "metadata": {},
   "outputs": [
    {
     "name": "stdout",
     "output_type": "stream",
     "text": [
      "{\"searchParameters\":{\"q\":\"ментальная арифметика\",\"type\":\"news\",\"engine\":\"google\"},\"news\":[{\"title\":\"Школа №626 открыла набор в кружок «Ментальная арифметика и скорочтение»\",\"link\":\"https://kotlovkamedia.ru/news/skola-626-otkryla-nabor-v-kruzok-mentalnaya-arifmetika-i-skoroctenie\",\"snippet\":\"Школа №626 объявила о возможности записаться в кружок «Ментальная арифметика и скорочтение» на платной основе. Об этом сообщается в группе...\",\"date\":\"5 months ago\",\"source\":\"Интернет-газета района Котловка ЮЗАО г.Москвы\",\"imageUrl\":\"https://encrypted-tbn0.gstatic.com/images?q=tbn:ANd9GcQQiol0Q_tS7PHpAXde5NPKBA303GrFMNXhfSUFyAVbBWNmVnrPCzIrouO-JQ&s\",\"position\":1},{\"title\":\"В КХЦ «Крылатское» открылась студия «Ментальная арифметика» для детей и подростков\",\"link\":\"https://gazeta.krl-uprava.ru/v-kxc-krylatskoe-otkrylas-studija-mentalnaja-arifmetika-dlja-detej-i-podrostkov\",\"snippet\":\"В культурно-художественном центре «Крылатское» открылась студия интеллектуальных способностей «Ментальная арифметика».\",\"date\":\"6 days ago\",\"source\":\"Крылатское Новости\",\"imageUrl\":\"https://encrypted-tbn0.gstatic.com/images?q=tbn:ANd9GcTA_32R_Fh3hNCVKl4jrGenP4WLxa8eMjn0XY5AgDlo4N4D3EUaRp7j_qJvVg&s\",\"position\":2},{\"title\":\"Как математика помогает сохранить ум и память после 55\",\"link\":\"https://cherinfo.ru/news/114759-kak-matematika-pomogaet-sohranit-um-i-pamat-posle-55\",\"snippet\":\"Можно ли после 60 и даже 70 лет не жаловаться на память, а наоборот, развивать ее?\",\"date\":\"40 months ago\",\"source\":\"Официальный сайт Череповца\",\"imageUrl\":\"https://encrypted-tbn0.gstatic.com/images?q=tbn:ANd9GcRyV6FH0oMKmrUJl-jtddObhtWkXr-98HMox5Jp0eXjvXoLVYIPZaB_jXfjBQ&s\",\"position\":3},{\"title\":\"Ментальную арифметику придумал выпускник Горного университета\",\"link\":\"https://forpost-sz.ru/spmi/2019-12-10/mentalnuyu-arifmetiku-pridumal-vypusknik-gornogo-universiteta\",\"snippet\":\"В Горном университете прошла Всероссийская очная Олимпиада по ментальной арифметике «Кубок северных столиц». В ней приняло участие более 350...\",\"date\":\"58 months ago\",\"source\":\"Форпост Северо-Запад\",\"position\":4},{\"title\":\"Почему ментальная арифметика особенно полезна нематематикам и девочкам?\",\"link\":\"https://35media.ru/paper--golos/2019/05/15/pochemu-mentalnaya-arifmetika-osobenno-polezna-nematematikam-i-devochkam\",\"snippet\":\"— Нет, со скоростью приема информации у детей все в порядке. У них проблемы с концентрацией и удержанием этой информации. А занимаясь ментальной...\",\"date\":\"65 months ago\",\"source\":\"35media\",\"imageUrl\":\"https://encrypted-tbn0.gstatic.com/images?q=tbn:ANd9GcQYFFDHr45OnPRwS5ZNwmoO3H4Qy2T7jZO8IZIRge5vVncAddpu17DKtEPt4g&s\",\"position\":5},{\"title\":\"В школе №1205 с сентября откроется новый кружок «Ментальная арифметика»\",\"link\":\"https://cheremushkimedia.ru/news/v-skole-1205-s-sentyabrya-otkroetsya-novyi-kruzok-mentalnaya-arifmetika\",\"snippet\":\"На базе школы №1205 с сентября начнет свою работу новый кружок дополнительного образования «Ментальная арифметика». Об этом сообщается в...\",\"date\":\"26 months ago\",\"source\":\"Новости района Черемушки\",\"imageUrl\":\"https://encrypted-tbn0.gstatic.com/images?q=tbn:ANd9GcRQ2Ih1mVz_wW5y8Dh8Z-AQQDvaWsSwqFhkoE-ufLB04Njhu7ox6rLc0avT_w&s\",\"position\":6},{\"title\":\"Ментальная арифметика ALOHA в Солнцево\",\"link\":\"https://raenza.ru/blogs/ads/5248\",\"snippet\":\"Ментальная арифметика ALOHA в Солнцево. Открыт набор в группы по ментальной арифметике ALOHA в районе Солнцево. Международная программа...\",\"date\":\"80 months ago\",\"source\":\"raenza.ru\",\"imageUrl\":\"https://encrypted-tbn0.gstatic.com/images?q=tbn:ANd9GcQ9DYFtOH4_RVF-4axoq5uzmGO4R4Ja9lcT9ZiC2J4COKoio7xvZxOxangsJA&s\",\"position\":7},{\"title\":\"Ментальная арифметика: 300 примеров за полчаса без калькулятора\",\"link\":\"https://nsknews.info/materials/mentalnaya-arifmetika-300-primerov-za-polchasa-bez-kalkulyatora/\",\"snippet\":\"Решить в уме 300 примеров меньше, чем за полчаса. Участникам Первого регионального турнира по ментальной арифметике это по силам.\",\"date\":\"77 months ago\",\"source\":\"Новосибирские новости\",\"imageUrl\":\"https://encrypted-tbn0.gstatic.com/images?q=tbn:ANd9GcR_kQkdJwnlFWzp0dyotcGtI_qjLYBsvw7rR9GoRxYdq5x1Gd4IMdauPMyeqQ&s\",\"position\":8},{\"title\":\"Ментальная арифметика: волшебная пилюля или пустая трата времени и денег?\",\"link\":\"https://pedsovet.org/article/mentalnaa-arifmetika-volsebnaa-pilula-ili-pustaa-trata-vremeni-i-deneg\",\"snippet\":\"Главная претензия — слабая доказательная база: «менталка» действительно учит считать в уме, но все остальные «эффекты» научно не доказаны. К...\",\"date\":\"31 months ago\",\"source\":\"Pedsovet.org\",\"imageUrl\":\"https://encrypted-tbn0.gstatic.com/images?q=tbn:ANd9GcTW0LcIHAFDj4H0YgEVL2HI3j0XSuroTxzqZfHtz0yjt6A-PfOs2iGjI7C9wQ&s\",\"position\":9},{\"title\":\"Ментальная арифметика: ум за разум или мышление XXI века?\",\"link\":\"https://kapital.kz/gosudarstvo/48161/mental-naya-arifmetika-um-za-razum-ili-myshleniye-ksksi-veka.html\",\"snippet\":\"Для психики ребенка ментальная арифметика имеет такое же воздействие, как заучивание стихотворений, формул или таблицы умножения. Психолог...\",\"date\":\"103 months ago\",\"source\":\"Центр деловой информации «Капитал»\",\"imageUrl\":\"https://encrypted-tbn0.gstatic.com/images?q=tbn:ANd9GcQ2MqNoGwlEdx2OMtdEc7mXIn3yTeBUZ4ZqiCs1X2j0YTKoUWLsAbjrge53Xw&s\",\"position\":10}],\"credits\":1}\n"
     ]
    }
   ],
   "source": [
    "import http.client\n",
    "import json\n",
    "\n",
    "conn = http.client.HTTPSConnection(\"google.serper.dev\")\n",
    "payload = json.dumps({\n",
    "  \"q\": \"ментальная арифметика\"\n",
    "})\n",
    "headers = {\n",
    "  'X-API-KEY': '',\n",
    "  'Content-Type': 'application/json'\n",
    "}\n",
    "conn.request(\"POST\", \"/news\", payload, headers)\n",
    "res = conn.getresponse()\n",
    "data = res.read()\n",
    "print(data.decode(\"utf-8\"))"
   ]
  },
  {
   "cell_type": "code",
   "execution_count": 6,
   "metadata": {},
   "outputs": [
    {
     "data": {
      "text/plain": [
       "{'searchParameters': {'q': 'ментальная арифметика',\n",
       "  'type': 'news',\n",
       "  'engine': 'google'},\n",
       " 'news': [{'title': 'Школа №626 открыла набор в кружок «Ментальная арифметика и скорочтение»',\n",
       "   'link': 'https://kotlovkamedia.ru/news/skola-626-otkryla-nabor-v-kruzok-mentalnaya-arifmetika-i-skoroctenie',\n",
       "   'snippet': 'Школа №626 объявила о возможности записаться в кружок «Ментальная арифметика и скорочтение» на платной основе. Об этом сообщается в группе...',\n",
       "   'date': '5 months ago',\n",
       "   'source': 'Интернет-газета района Котловка ЮЗАО г.Москвы',\n",
       "   'imageUrl': 'https://encrypted-tbn0.gstatic.com/images?q=tbn:ANd9GcQQiol0Q_tS7PHpAXde5NPKBA303GrFMNXhfSUFyAVbBWNmVnrPCzIrouO-JQ&s',\n",
       "   'position': 1},\n",
       "  {'title': 'В КХЦ «Крылатское» открылась студия «Ментальная арифметика» для детей и подростков',\n",
       "   'link': 'https://gazeta.krl-uprava.ru/v-kxc-krylatskoe-otkrylas-studija-mentalnaja-arifmetika-dlja-detej-i-podrostkov',\n",
       "   'snippet': 'В культурно-художественном центре «Крылатское» открылась студия интеллектуальных способностей «Ментальная арифметика».',\n",
       "   'date': '6 days ago',\n",
       "   'source': 'Крылатское Новости',\n",
       "   'imageUrl': 'https://encrypted-tbn0.gstatic.com/images?q=tbn:ANd9GcTA_32R_Fh3hNCVKl4jrGenP4WLxa8eMjn0XY5AgDlo4N4D3EUaRp7j_qJvVg&s',\n",
       "   'position': 2},\n",
       "  {'title': 'Как математика помогает сохранить ум и память после 55',\n",
       "   'link': 'https://cherinfo.ru/news/114759-kak-matematika-pomogaet-sohranit-um-i-pamat-posle-55',\n",
       "   'snippet': 'Можно ли после 60 и даже 70 лет не жаловаться на память, а наоборот, развивать ее?',\n",
       "   'date': '40 months ago',\n",
       "   'source': 'Официальный сайт Череповца',\n",
       "   'imageUrl': 'https://encrypted-tbn0.gstatic.com/images?q=tbn:ANd9GcRyV6FH0oMKmrUJl-jtddObhtWkXr-98HMox5Jp0eXjvXoLVYIPZaB_jXfjBQ&s',\n",
       "   'position': 3},\n",
       "  {'title': 'Ментальную арифметику придумал выпускник Горного университета',\n",
       "   'link': 'https://forpost-sz.ru/spmi/2019-12-10/mentalnuyu-arifmetiku-pridumal-vypusknik-gornogo-universiteta',\n",
       "   'snippet': 'В Горном университете прошла Всероссийская очная Олимпиада по ментальной арифметике «Кубок северных столиц». В ней приняло участие более 350...',\n",
       "   'date': '58 months ago',\n",
       "   'source': 'Форпост Северо-Запад',\n",
       "   'position': 4},\n",
       "  {'title': 'Почему ментальная арифметика особенно полезна нематематикам и девочкам?',\n",
       "   'link': 'https://35media.ru/paper--golos/2019/05/15/pochemu-mentalnaya-arifmetika-osobenno-polezna-nematematikam-i-devochkam',\n",
       "   'snippet': '— Нет, со скоростью приема информации у детей все в порядке. У них проблемы с концентрацией и удержанием этой информации. А занимаясь ментальной...',\n",
       "   'date': '65 months ago',\n",
       "   'source': '35media',\n",
       "   'imageUrl': 'https://encrypted-tbn0.gstatic.com/images?q=tbn:ANd9GcQYFFDHr45OnPRwS5ZNwmoO3H4Qy2T7jZO8IZIRge5vVncAddpu17DKtEPt4g&s',\n",
       "   'position': 5},\n",
       "  {'title': 'В школе №1205 с сентября откроется новый кружок «Ментальная арифметика»',\n",
       "   'link': 'https://cheremushkimedia.ru/news/v-skole-1205-s-sentyabrya-otkroetsya-novyi-kruzok-mentalnaya-arifmetika',\n",
       "   'snippet': 'На базе школы №1205 с сентября начнет свою работу новый кружок дополнительного образования «Ментальная арифметика». Об этом сообщается в...',\n",
       "   'date': '26 months ago',\n",
       "   'source': 'Новости района Черемушки',\n",
       "   'imageUrl': 'https://encrypted-tbn0.gstatic.com/images?q=tbn:ANd9GcRQ2Ih1mVz_wW5y8Dh8Z-AQQDvaWsSwqFhkoE-ufLB04Njhu7ox6rLc0avT_w&s',\n",
       "   'position': 6},\n",
       "  {'title': 'Ментальная арифметика ALOHA в Солнцево',\n",
       "   'link': 'https://raenza.ru/blogs/ads/5248',\n",
       "   'snippet': 'Ментальная арифметика ALOHA в Солнцево. Открыт набор в группы по ментальной арифметике ALOHA в районе Солнцево. Международная программа...',\n",
       "   'date': '80 months ago',\n",
       "   'source': 'raenza.ru',\n",
       "   'imageUrl': 'https://encrypted-tbn0.gstatic.com/images?q=tbn:ANd9GcQ9DYFtOH4_RVF-4axoq5uzmGO4R4Ja9lcT9ZiC2J4COKoio7xvZxOxangsJA&s',\n",
       "   'position': 7},\n",
       "  {'title': 'Ментальная арифметика: 300 примеров за полчаса без калькулятора',\n",
       "   'link': 'https://nsknews.info/materials/mentalnaya-arifmetika-300-primerov-za-polchasa-bez-kalkulyatora/',\n",
       "   'snippet': 'Решить в уме 300 примеров меньше, чем за полчаса. Участникам Первого регионального турнира по ментальной арифметике это по силам.',\n",
       "   'date': '77 months ago',\n",
       "   'source': 'Новосибирские новости',\n",
       "   'imageUrl': 'https://encrypted-tbn0.gstatic.com/images?q=tbn:ANd9GcR_kQkdJwnlFWzp0dyotcGtI_qjLYBsvw7rR9GoRxYdq5x1Gd4IMdauPMyeqQ&s',\n",
       "   'position': 8},\n",
       "  {'title': 'Ментальная арифметика: волшебная пилюля или пустая трата времени и денег?',\n",
       "   'link': 'https://pedsovet.org/article/mentalnaa-arifmetika-volsebnaa-pilula-ili-pustaa-trata-vremeni-i-deneg',\n",
       "   'snippet': 'Главная претензия — слабая доказательная база: «менталка» действительно учит считать в уме, но все остальные «эффекты» научно не доказаны. К...',\n",
       "   'date': '31 months ago',\n",
       "   'source': 'Pedsovet.org',\n",
       "   'imageUrl': 'https://encrypted-tbn0.gstatic.com/images?q=tbn:ANd9GcTW0LcIHAFDj4H0YgEVL2HI3j0XSuroTxzqZfHtz0yjt6A-PfOs2iGjI7C9wQ&s',\n",
       "   'position': 9},\n",
       "  {'title': 'Ментальная арифметика: ум за разум или мышление XXI века?',\n",
       "   'link': 'https://kapital.kz/gosudarstvo/48161/mental-naya-arifmetika-um-za-razum-ili-myshleniye-ksksi-veka.html',\n",
       "   'snippet': 'Для психики ребенка ментальная арифметика имеет такое же воздействие, как заучивание стихотворений, формул или таблицы умножения. Психолог...',\n",
       "   'date': '103 months ago',\n",
       "   'source': 'Центр деловой информации «Капитал»',\n",
       "   'imageUrl': 'https://encrypted-tbn0.gstatic.com/images?q=tbn:ANd9GcQ2MqNoGwlEdx2OMtdEc7mXIn3yTeBUZ4ZqiCs1X2j0YTKoUWLsAbjrge53Xw&s',\n",
       "   'position': 10}],\n",
       " 'credits': 1}"
      ]
     },
     "execution_count": 6,
     "metadata": {},
     "output_type": "execute_result"
    }
   ],
   "source": [
    "eval(data.decode('utf-8'))"
   ]
  },
  {
   "cell_type": "code",
   "execution_count": null,
   "metadata": {},
   "outputs": [],
   "source": []
  },
  {
   "cell_type": "code",
   "execution_count": null,
   "metadata": {},
   "outputs": [],
   "source": []
  }
 ],
 "metadata": {
  "kernelspec": {
   "display_name": "Python 3",
   "language": "python",
   "name": "python3"
  },
  "language_info": {
   "codemirror_mode": {
    "name": "ipython",
    "version": 3
   },
   "file_extension": ".py",
   "mimetype": "text/x-python",
   "name": "python",
   "nbconvert_exporter": "python",
   "pygments_lexer": "ipython3",
   "version": "3.11.2"
  }
 },
 "nbformat": 4,
 "nbformat_minor": 2
}
