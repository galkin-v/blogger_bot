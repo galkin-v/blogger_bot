{
 "cells": [
  {
   "cell_type": "code",
   "execution_count": 1,
   "metadata": {},
   "outputs": [],
   "source": [
    "from model import NewsBlogAssistant\n",
    "import telebot"
   ]
  },
  {
   "cell_type": "code",
   "execution_count": 2,
   "metadata": {},
   "outputs": [],
   "source": [
    "AUDIENCE = 'NLP, LLM специалисты'\n",
    "DETAILS = '3 запроса на русском языке, 7 на английском. Сейчас конец 2024 года, учитывай актуальность ресурсов. Выбирай конкретные темы. Полезно иногда просто искать по названию области: nlp, LLM без добавления новости и тд.'\n",
    "assistant = NewsBlogAssistant(AUDIENCE, DETAILS, add_image=False, backend='news')"
   ]
  },
  {
   "cell_type": "code",
   "execution_count": 3,
   "metadata": {},
   "outputs": [
    {
     "name": "stdout",
     "output_type": "stream",
     "text": [
      "['новости NLP 2024', 'передовые методы LLM 2024', 'исследования в области обработки естественного языка 2024', 'latest NLP techniques 2024', 'LLM advancements 2024', 'applications of AI in NLP 2024', 'open source NLP frameworks 2024', 'ethical considerations in LLM development 2024', 'NLP in enterprise solutions 2024', 'recent conferences on NLP and LLM 2024']\n",
      "Scraping text from https://www.unite.ai/best-large-language-models-llms/...\n",
      "Scraping text from https://blog.monsterapi.ai/blogs/top-open-source-llms-for-2024/...\n",
      "Scraping text from https://www.datacamp.com/blog/top-open-source-llms...\n",
      "Error fetching https://www.datacamp.com/blog/top-open-source-llms: 403 Client Error: Forbidden for url: https://www.datacamp.com/blog/top-open-source-llms\n",
      "# Новые горизонты NLP: Обзор мощных открытых языковых моделей 2024 года 🌐\n",
      "\n",
      "2024 год стал знаковым для мира обработки естественного языка, поскольку множество новых языковых моделей (LLMs) продолжают радикально менять подходы к искусственному интеллекту. Сегодня мы погрузимся в последние достижения в этой области, выделяя ключевые модели и их применения.\n",
      "\n",
      "## Claude 3 от Anthropic: Этика и вершины производительности\n",
      "\n",
      "Одним из ярчайших представленных решений является **Claude 3**, выпущенный в марте 2024 года. Этот набор моделей демонстрирует выдающиеся результаты по сравнению с конкурентами, включая GPT-4 и Google Gemini Ultra. Что особенно впечатляет, так это акцент на безопасности и этике, который Anthropic внедрил в процесс разработки. Claude 3 показывает не только высокую производительность, но и возможность обработки многоязычной информации. Это делает его универсальным инструментом для самых разнообразных задач в NLP.\n",
      "\n",
      "## GPT-4o от OpenAI: Новый уровень взаимодействия\n",
      "\n",
      "Следующим на очереди идет **GPT-4o** от OpenAI, который, судя по всему, открывает новую эру взаимодействия человека и машины. Благодаря улучшенным возможностям и высокой эффективности, GPT-4o подходит для выполнения множества задач — от генерации текста до комплексной обработки данных. Безопасность при использовании LLM по-прежнему остается одним из главных приоритетов OpenAI, что настраивает на позитивный лад в отношении данной технологии.\n",
      "\n",
      "## Llama 3.1 от Meta: Открытые горизонты в мире AI\n",
      "\n",
      "Не менее важно выделить **Llama 3.1** от Meta, который впервые стал доступен с 405 миллиардами параметров. Эти модели значительно улучшили возможности обработки сложных текстов и диалогов. С увеличенной длиной контекста до 128,000 токенов Llama 3.1 открывает новые перспективы для NLP, позволяя моделям гораздо лучше справляться с многослойными запросами.\n",
      "\n",
      "## Gemini 1.5 Pro от Google: Будущее в каждой строке\n",
      "\n",
      "Google тоже не отстает — их **Gemini 1.5 Pro**, представленный в мае 2024, демонстрирует заметные улучшения по сравнению с предшественником. Репутация Google в области AI говорит сама за себя, и новая модель еще раз подтверждает это, показывая превосходные результаты в текстовых и визуальных задачах. \n",
      "\n",
      "## Grok-2 от xAI: Модель с оговорками\n",
      "\n",
      "Наконец, стоит упомянуть **Grok-2** от xAI, который представляет собой значительное продвижение по сравнению с Grok-1. Эта модель не только улучшила свою производительность, но и вызвала обсуждения касательно рисков контентного модерации и распространения дезинформации.\n",
      "\n",
      "---\n",
      "\n",
      "Все эти достижения подчеркивают, что мир языковых моделей становится все более разнообразным и интригующим. Как пользователи и разработчики, мы должны обращать внимание не только на производительность моделей, но и на их моральный аспект. Эти новые LLM могут предложить мощные инструменты для решения сложных задач, но нам необходимо задуматься о безопасной и этичной их эксплуатации.\n",
      "\n",
      "Какой из новых LLM вы считаете наиболее перспективным для ваших проектов? Делитесь в комментариях! 💬\n"
     ]
    }
   ],
   "source": [
    "post = assistant.action()\n",
    "print(post)"
   ]
  },
  {
   "cell_type": "code",
   "execution_count": 4,
   "metadata": {},
   "outputs": [],
   "source": [
    "bot_token = ''\n",
    "chat_id = '@nlp_news_assistant'\n",
    "bot = telebot.TeleBot(bot_token, parse_mode='MARKDOWN')"
   ]
  },
  {
   "cell_type": "code",
   "execution_count": 5,
   "metadata": {},
   "outputs": [
    {
     "data": {
      "text/plain": [
       "<telebot.types.Message at 0x168218050>"
      ]
     },
     "execution_count": 5,
     "metadata": {},
     "output_type": "execute_result"
    }
   ],
   "source": [
    "bot.send_message(chat_id=chat_id, text=post)"
   ]
  },
  {
   "cell_type": "code",
   "execution_count": null,
   "metadata": {},
   "outputs": [],
   "source": []
  }
 ],
 "metadata": {
  "kernelspec": {
   "display_name": "Python 3",
   "language": "python",
   "name": "python3"
  },
  "language_info": {
   "codemirror_mode": {
    "name": "ipython",
    "version": 3
   },
   "file_extension": ".py",
   "mimetype": "text/x-python",
   "name": "python",
   "nbconvert_exporter": "python",
   "pygments_lexer": "ipython3",
   "version": "3.11.2"
  }
 },
 "nbformat": 4,
 "nbformat_minor": 2
}
